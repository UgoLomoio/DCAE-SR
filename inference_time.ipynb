{
 "cells": [
  {
   "cell_type": "code",
   "execution_count": 2,
   "id": "38493300-b047-481a-b8f9-6a9a69c80cd3",
   "metadata": {},
   "outputs": [],
   "source": [
    "#!pip install matplotlib==3.7.0"
   ]
  },
  {
   "cell_type": "code",
   "execution_count": 1,
   "id": "b50ea2ae-737e-4da9-af61-53fa2e177eac",
   "metadata": {},
   "outputs": [
    {
     "data": {
      "text/plain": [
       "'C:\\\\Users\\\\Utente\\\\Desktop\\\\ECG_SR'"
      ]
     },
     "execution_count": 1,
     "metadata": {},
     "output_type": "execute_result"
    }
   ],
   "source": [
    "import os \n",
    "import torch \n",
    "import matplotlib \n",
    "import functions \n",
    "\n",
    "cwd = os.getcwd()\n",
    "cwd"
   ]
  },
  {
   "cell_type": "code",
   "execution_count": 2,
   "id": "3c2c0e5a-cfbc-4b2d-9adb-650990276140",
   "metadata": {},
   "outputs": [],
   "source": [
    "labels = [\"MI\", \"STTC\", \"CD\", \"HYP\", \"NORM\"]"
   ]
  },
  {
   "cell_type": "code",
   "execution_count": 3,
   "id": "d5dcff49-d6be-4197-bcba-6a5750a26a4d",
   "metadata": {},
   "outputs": [],
   "source": [
    "dict_windows_test_lr_n = {}\n",
    "path = os.getcwd()+os.sep+\"pt_data\"+os.sep\n",
    "\n",
    "for label in labels:\n",
    "    \n",
    "    filename = path + \"test_{}_noisy.pt\".format(label)\n",
    "    lr_data = torch.load(filename)\n",
    "    dict_windows_test_lr_n[label] = lr_data"
   ]
  },
  {
   "cell_type": "code",
   "execution_count": 26,
   "id": "b656acb7-0b64-4ba3-b443-e86d236acbee",
   "metadata": {},
   "outputs": [
    {
     "name": "stdout",
     "output_type": "stream",
     "text": [
      "MI torch.Size([1088, 1, 12, 250])\n",
      "STTC torch.Size([568, 1, 12, 250])\n",
      "CD torch.Size([490, 1, 12, 250])\n",
      "HYP torch.Size([244, 1, 12, 250])\n",
      "NORM torch.Size([1926, 1, 12, 250])\n"
     ]
    }
   ],
   "source": [
    "for label, values in dict_windows_test_lr_n.items():\n",
    "\n",
    "    print(label, values.shape)"
   ]
  },
  {
   "cell_type": "code",
   "execution_count": 4,
   "id": "c4a22aa8-448c-4013-ad3a-8b8b83687c69",
   "metadata": {},
   "outputs": [
    {
     "data": {
      "text/plain": [
       "torch.Size([4316, 1, 12, 250])"
      ]
     },
     "execution_count": 4,
     "metadata": {},
     "output_type": "execute_result"
    }
   ],
   "source": [
    "x_test = torch.cat(list(dict_windows_test_lr_n.values()))\n",
    "x_test.shape"
   ]
  },
  {
   "cell_type": "code",
   "execution_count": 5,
   "id": "0bf36ce9-f605-4cff-afdd-cd0cd3f3727f",
   "metadata": {},
   "outputs": [
    {
     "data": {
      "text/plain": [
       "torch.Size([4316, 1, 1, 12, 250])"
      ]
     },
     "execution_count": 5,
     "metadata": {},
     "output_type": "execute_result"
    }
   ],
   "source": [
    "x_test = torch.unsqueeze(x_test, dim = 1)\n",
    "x_test.shape"
   ]
  },
  {
   "cell_type": "code",
   "execution_count": 13,
   "id": "2046464b-bb8e-45aa-9c29-a230ce8fc204",
   "metadata": {},
   "outputs": [
    {
     "data": {
      "text/plain": [
       "tensor([[[[[ 3.2185e-02, -4.9509e-02, -2.0301e-02,  ...,  2.0161e-02,\n",
       "            -3.0261e-02,  2.0745e-02],\n",
       "           [ 5.6784e-02, -6.0794e-02, -5.2772e-03,  ..., -1.5538e-02,\n",
       "            -7.1191e-02, -1.0413e-02],\n",
       "           [ 2.4866e-02, -1.1050e-02,  1.5306e-02,  ..., -3.5009e-02,\n",
       "            -4.1108e-02, -3.0697e-02],\n",
       "           ...,\n",
       "           [ 6.6937e-02, -9.6021e-02,  1.9699e-03,  ...,  1.2915e-01,\n",
       "             7.9756e-02,  1.2479e-01],\n",
       "           [ 1.8587e-02, -1.2386e-01, -2.3833e-02,  ..., -9.0272e-02,\n",
       "            -1.0182e-01, -4.4736e-02],\n",
       "           [ 7.5363e-03, -1.1401e-01, -3.2593e-02,  ..., -1.7279e-01,\n",
       "            -1.8284e-01, -1.1000e-01]]]],\n",
       "\n",
       "\n",
       "\n",
       "        [[[[ 5.3926e-03,  6.2761e-02,  5.9772e-02,  ...,  6.9501e-02,\n",
       "             7.9347e-02,  1.2017e-01],\n",
       "           [-3.8360e-02,  9.7371e-03,  2.2684e-02,  ...,  4.3259e-02,\n",
       "             7.1064e-02,  1.4193e-01],\n",
       "           [-4.3699e-02, -5.2628e-02, -3.7565e-02,  ..., -2.6185e-02,\n",
       "            -8.2508e-03,  2.1690e-02],\n",
       "           ...,\n",
       "           [ 1.0244e-01,  1.5052e-01,  1.8631e-01,  ...,  2.3647e-01,\n",
       "             2.7416e-01,  3.5091e-01],\n",
       "           [-4.6466e-02,  1.2087e-02,  5.3303e-02,  ...,  1.0632e-01,\n",
       "             1.6046e-01,  2.6078e-01],\n",
       "           [-9.5595e-02, -3.6167e-02, -1.3323e-02,  ...,  4.2015e-02,\n",
       "             1.1231e-01,  2.0230e-01]]]],\n",
       "\n",
       "\n",
       "\n",
       "        [[[[ 9.5866e-01,  9.5119e-01,  9.1463e-01,  ..., -1.4682e+00,\n",
       "            -1.4972e+00, -1.4605e+00],\n",
       "           [ 1.0135e+00,  1.0312e+00,  1.0522e+00,  ..., -1.5436e+00,\n",
       "            -1.5057e+00, -1.5301e+00],\n",
       "           [ 1.0693e+00,  1.0852e+00,  1.1323e+00,  ..., -1.5332e+00,\n",
       "            -1.4775e+00, -1.5489e+00],\n",
       "           ...,\n",
       "           [ 1.0337e+00,  1.0813e+00,  1.0914e+00,  ..., -1.5758e+00,\n",
       "            -1.4895e+00, -1.5776e+00],\n",
       "           [ 8.4449e-01,  8.6816e-01,  9.3910e-01,  ..., -1.5176e+00,\n",
       "            -1.4679e+00, -1.5451e+00],\n",
       "           [ 6.0263e-01,  6.8404e-01,  7.9961e-01,  ..., -1.5489e+00,\n",
       "            -1.5295e+00, -1.5761e+00]]]],\n",
       "\n",
       "\n",
       "\n",
       "        ...,\n",
       "\n",
       "\n",
       "\n",
       "        [[[[-1.8406e-01, -2.0999e-01, -1.0332e-01,  ..., -2.2464e-02,\n",
       "            -4.8782e-02, -2.6650e-03],\n",
       "           [-6.5611e-02, -9.3555e-02, -5.5618e-03,  ..., -5.2725e-02,\n",
       "            -5.7925e-02, -4.7424e-02],\n",
       "           [ 1.1819e-01,  1.1651e-01,  9.8171e-02,  ..., -3.0714e-02,\n",
       "            -9.4368e-03, -4.4701e-02],\n",
       "           ...,\n",
       "           [-1.6919e-02, -7.7432e-02,  7.1551e-03,  ...,  6.8887e-03,\n",
       "            -2.8248e-02, -2.0828e-02],\n",
       "           [-4.3661e-02, -8.2068e-02, -1.6728e-02,  ..., -5.5046e-02,\n",
       "            -6.5412e-02, -4.8607e-02],\n",
       "           [-6.9027e-02, -9.0214e-02, -3.7760e-02,  ..., -6.4333e-02,\n",
       "            -6.5688e-02, -4.3088e-02]]]],\n",
       "\n",
       "\n",
       "\n",
       "        [[[[ 7.3965e-04, -5.7351e-02, -7.4355e-04,  ...,  1.0606e-01,\n",
       "             1.3571e-01,  1.3100e-01],\n",
       "           [ 1.3071e-02, -7.8611e-02, -1.1946e-02,  ...,  2.0482e-01,\n",
       "             2.2850e-01,  2.2009e-01],\n",
       "           [ 1.2421e-02, -2.0964e-02, -1.1078e-02,  ...,  9.7693e-02,\n",
       "             9.2240e-02,  8.9197e-02],\n",
       "           ...,\n",
       "           [-7.2094e-02, -1.3981e-01, -4.0807e-02,  ...,  1.2237e-01,\n",
       "             2.2569e-01,  1.5297e-01],\n",
       "           [-9.2715e-02, -1.6053e-01, -3.6584e-02,  ...,  5.1211e-02,\n",
       "             1.9460e-01,  1.5056e-01],\n",
       "           [-8.4286e-02, -1.0485e-01, -2.6430e-02,  ...,  6.2026e-03,\n",
       "             8.4617e-02,  8.3953e-02]]]],\n",
       "\n",
       "\n",
       "\n",
       "        [[[[ 1.5678e-01,  8.2578e-02,  2.3006e-02,  ..., -2.1098e-02,\n",
       "            -5.9973e-04, -4.0693e-02],\n",
       "           [ 2.2518e-01,  1.1924e-01,  4.2202e-02,  ..., -1.6591e-02,\n",
       "             1.8930e-02, -3.2194e-02],\n",
       "           [ 1.0771e-01,  6.3603e-02,  9.4546e-02,  ...,  5.1677e-02,\n",
       "             8.8559e-02,  4.7230e-02],\n",
       "           ...,\n",
       "           [ 1.3801e-01, -9.9463e-02, -1.4100e-01,  ...,  2.1563e-01,\n",
       "             2.7696e-01,  2.4765e-01],\n",
       "           [ 1.8964e-01, -4.0328e-02, -1.0100e-01,  ..., -3.6446e-02,\n",
       "             1.1190e-01,  3.6413e-02],\n",
       "           [ 9.7334e-02, -5.4624e-02, -9.6404e-02,  ..., -2.5249e-02,\n",
       "             7.9537e-02,  2.3314e-02]]]]], device='cuda:0')"
      ]
     },
     "execution_count": 13,
     "metadata": {},
     "output_type": "execute_result"
    }
   ],
   "source": [
    "device = \"cuda:0\"\n",
    "x_test.to(device)"
   ]
  },
  {
   "cell_type": "code",
   "execution_count": 15,
   "id": "99fa147d-24c4-4452-9a51-3310b80d4899",
   "metadata": {},
   "outputs": [],
   "source": [
    "import gc\n",
    "gc.collect()\n",
    "torch.cuda.empty_cache()"
   ]
  },
  {
   "cell_type": "code",
   "execution_count": 17,
   "id": "56285fe8-a91b-436c-af62-0b409904cb0c",
   "metadata": {},
   "outputs": [],
   "source": [
    "sep = os.sep \n",
    "\n",
    "device = \"cuda:0\"\n",
    "modelspath = cwd + sep + \"models\"\n",
    "modelpath = modelspath + sep + \"model_2_denoising_lrhr_v2.pt\""
   ]
  },
  {
   "cell_type": "code",
   "execution_count": 19,
   "id": "54dd41c0-71f0-4a9f-8570-f603d42396d7",
   "metadata": {},
   "outputs": [
    {
     "name": "stderr",
     "output_type": "stream",
     "text": [
      "D:\\anaconda3\\envs\\dcaesr\\lib\\site-packages\\torch\\serialization.py:1172: UserWarning: This figure was saved with matplotlib version 3.7.1 and is unlikely to function correctly.\n",
      "  result = unpickler.load()\n"
     ]
    }
   ],
   "source": [
    "model = torch.load(modelpath).to(device)\n",
    "model.eval()\n",
    "\n",
    "decoder = model.decoder.decoder\n",
    "decoder_sr = model.upsample.decoder\n",
    "for j, block in enumerate(decoder):\n",
    "  if j+1 == 2:\n",
    "    block.last_tanh = False\n",
    "  else:\n",
    "    block.last_tanh = True\n",
    "\n",
    "for j, block in enumerate(decoder_sr):\n",
    "  if j+1 == 2:\n",
    "    block.last_tanh = False\n",
    "  else:\n",
    "    block.last_tanh = True"
   ]
  },
  {
   "cell_type": "code",
   "execution_count": 21,
   "id": "b1152669-21f7-4308-a4e7-20451d9666d2",
   "metadata": {},
   "outputs": [],
   "source": [
    "import time \n",
    "\n",
    "times = []\n",
    "\n",
    "for signal_lr in x_test:\n",
    "    \n",
    "    start = time.time()\n",
    "    signal_sr = model([signal_lr, None, None, None])[1]\n",
    "    t = time.time() - start\n",
    "    times.append(t)"
   ]
  },
  {
   "cell_type": "code",
   "execution_count": 28,
   "id": "f4d54a1f-0223-48e2-9bd7-1b64ccc30ad3",
   "metadata": {},
   "outputs": [
    {
     "data": {
      "text/plain": [
       "(0.013920831779730993, 60.08230996131897)"
      ]
     },
     "execution_count": 28,
     "metadata": {},
     "output_type": "execute_result"
    }
   ],
   "source": [
    "import numpy as np \n",
    "np.mean(times), np.sum(times)"
   ]
  }
 ],
 "metadata": {
  "kernelspec": {
   "display_name": "dcaesr",
   "language": "python",
   "name": "dcaesr"
  },
  "language_info": {
   "codemirror_mode": {
    "name": "ipython",
    "version": 3
   },
   "file_extension": ".py",
   "mimetype": "text/x-python",
   "name": "python",
   "nbconvert_exporter": "python",
   "pygments_lexer": "ipython3",
   "version": "3.9.19"
  }
 },
 "nbformat": 4,
 "nbformat_minor": 5
}
